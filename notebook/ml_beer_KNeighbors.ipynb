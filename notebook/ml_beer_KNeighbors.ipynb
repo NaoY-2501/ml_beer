{
 "cells": [
  {
   "cell_type": "code",
   "execution_count": 1,
   "metadata": {},
   "outputs": [],
   "source": [
    "import pandas as pd"
   ]
  },
  {
   "cell_type": "code",
   "execution_count": 2,
   "metadata": {},
   "outputs": [],
   "source": [
    "df_origin = pd.read_csv('./data/beers.csv').drop('Unnamed: 0', axis=1)"
   ]
  },
  {
   "cell_type": "code",
   "execution_count": 3,
   "metadata": {},
   "outputs": [
    {
     "data": {
      "text/plain": [
       "2410"
      ]
     },
     "execution_count": 3,
     "metadata": {},
     "output_type": "execute_result"
    }
   ],
   "source": [
    "len(df_origin)"
   ]
  },
  {
   "cell_type": "code",
   "execution_count": 4,
   "metadata": {},
   "outputs": [
    {
     "data": {
      "text/html": [
       "<div>\n",
       "<style scoped>\n",
       "    .dataframe tbody tr th:only-of-type {\n",
       "        vertical-align: middle;\n",
       "    }\n",
       "\n",
       "    .dataframe tbody tr th {\n",
       "        vertical-align: top;\n",
       "    }\n",
       "\n",
       "    .dataframe thead th {\n",
       "        text-align: right;\n",
       "    }\n",
       "</style>\n",
       "<table border=\"1\" class=\"dataframe\">\n",
       "  <thead>\n",
       "    <tr style=\"text-align: right;\">\n",
       "      <th></th>\n",
       "      <th>abv</th>\n",
       "      <th>ibu</th>\n",
       "      <th>id</th>\n",
       "      <th>name</th>\n",
       "      <th>style</th>\n",
       "      <th>brewery_id</th>\n",
       "      <th>ounces</th>\n",
       "    </tr>\n",
       "  </thead>\n",
       "  <tbody>\n",
       "    <tr>\n",
       "      <th>0</th>\n",
       "      <td>0.050</td>\n",
       "      <td>NaN</td>\n",
       "      <td>1436</td>\n",
       "      <td>Pub Beer</td>\n",
       "      <td>American Pale Lager</td>\n",
       "      <td>408</td>\n",
       "      <td>12.0</td>\n",
       "    </tr>\n",
       "    <tr>\n",
       "      <th>1</th>\n",
       "      <td>0.066</td>\n",
       "      <td>NaN</td>\n",
       "      <td>2265</td>\n",
       "      <td>Devil's Cup</td>\n",
       "      <td>American Pale Ale (APA)</td>\n",
       "      <td>177</td>\n",
       "      <td>12.0</td>\n",
       "    </tr>\n",
       "    <tr>\n",
       "      <th>2</th>\n",
       "      <td>0.071</td>\n",
       "      <td>NaN</td>\n",
       "      <td>2264</td>\n",
       "      <td>Rise of the Phoenix</td>\n",
       "      <td>American IPA</td>\n",
       "      <td>177</td>\n",
       "      <td>12.0</td>\n",
       "    </tr>\n",
       "    <tr>\n",
       "      <th>3</th>\n",
       "      <td>0.090</td>\n",
       "      <td>NaN</td>\n",
       "      <td>2263</td>\n",
       "      <td>Sinister</td>\n",
       "      <td>American Double / Imperial IPA</td>\n",
       "      <td>177</td>\n",
       "      <td>12.0</td>\n",
       "    </tr>\n",
       "    <tr>\n",
       "      <th>4</th>\n",
       "      <td>0.075</td>\n",
       "      <td>NaN</td>\n",
       "      <td>2262</td>\n",
       "      <td>Sex and Candy</td>\n",
       "      <td>American IPA</td>\n",
       "      <td>177</td>\n",
       "      <td>12.0</td>\n",
       "    </tr>\n",
       "  </tbody>\n",
       "</table>\n",
       "</div>"
      ],
      "text/plain": [
       "     abv  ibu    id                 name                           style  \\\n",
       "0  0.050  NaN  1436             Pub Beer             American Pale Lager   \n",
       "1  0.066  NaN  2265          Devil's Cup         American Pale Ale (APA)   \n",
       "2  0.071  NaN  2264  Rise of the Phoenix                    American IPA   \n",
       "3  0.090  NaN  2263             Sinister  American Double / Imperial IPA   \n",
       "4  0.075  NaN  2262        Sex and Candy                    American IPA   \n",
       "\n",
       "   brewery_id  ounces  \n",
       "0         408    12.0  \n",
       "1         177    12.0  \n",
       "2         177    12.0  \n",
       "3         177    12.0  \n",
       "4         177    12.0  "
      ]
     },
     "execution_count": 4,
     "metadata": {},
     "output_type": "execute_result"
    }
   ],
   "source": [
    "df_origin.head()"
   ]
  },
  {
   "cell_type": "code",
   "execution_count": 5,
   "metadata": {},
   "outputs": [
    {
     "data": {
      "text/html": [
       "<div>\n",
       "<style scoped>\n",
       "    .dataframe tbody tr th:only-of-type {\n",
       "        vertical-align: middle;\n",
       "    }\n",
       "\n",
       "    .dataframe tbody tr th {\n",
       "        vertical-align: top;\n",
       "    }\n",
       "\n",
       "    .dataframe thead th {\n",
       "        text-align: right;\n",
       "    }\n",
       "</style>\n",
       "<table border=\"1\" class=\"dataframe\">\n",
       "  <thead>\n",
       "    <tr style=\"text-align: right;\">\n",
       "      <th></th>\n",
       "      <th>abv</th>\n",
       "      <th>ibu</th>\n",
       "      <th>id</th>\n",
       "      <th>brewery_id</th>\n",
       "      <th>ounces</th>\n",
       "    </tr>\n",
       "  </thead>\n",
       "  <tbody>\n",
       "    <tr>\n",
       "      <th>count</th>\n",
       "      <td>2348.000000</td>\n",
       "      <td>1405.000000</td>\n",
       "      <td>2410.000000</td>\n",
       "      <td>2410.000000</td>\n",
       "      <td>2410.000000</td>\n",
       "    </tr>\n",
       "    <tr>\n",
       "      <th>mean</th>\n",
       "      <td>0.059773</td>\n",
       "      <td>42.713167</td>\n",
       "      <td>1431.113278</td>\n",
       "      <td>231.749793</td>\n",
       "      <td>13.592241</td>\n",
       "    </tr>\n",
       "    <tr>\n",
       "      <th>std</th>\n",
       "      <td>0.013542</td>\n",
       "      <td>25.954066</td>\n",
       "      <td>752.459975</td>\n",
       "      <td>157.685604</td>\n",
       "      <td>2.352204</td>\n",
       "    </tr>\n",
       "    <tr>\n",
       "      <th>min</th>\n",
       "      <td>0.001000</td>\n",
       "      <td>4.000000</td>\n",
       "      <td>1.000000</td>\n",
       "      <td>0.000000</td>\n",
       "      <td>8.400000</td>\n",
       "    </tr>\n",
       "    <tr>\n",
       "      <th>25%</th>\n",
       "      <td>0.050000</td>\n",
       "      <td>21.000000</td>\n",
       "      <td>808.250000</td>\n",
       "      <td>93.000000</td>\n",
       "      <td>12.000000</td>\n",
       "    </tr>\n",
       "    <tr>\n",
       "      <th>50%</th>\n",
       "      <td>0.056000</td>\n",
       "      <td>35.000000</td>\n",
       "      <td>1453.500000</td>\n",
       "      <td>205.000000</td>\n",
       "      <td>12.000000</td>\n",
       "    </tr>\n",
       "    <tr>\n",
       "      <th>75%</th>\n",
       "      <td>0.067000</td>\n",
       "      <td>64.000000</td>\n",
       "      <td>2075.750000</td>\n",
       "      <td>366.000000</td>\n",
       "      <td>16.000000</td>\n",
       "    </tr>\n",
       "    <tr>\n",
       "      <th>max</th>\n",
       "      <td>0.128000</td>\n",
       "      <td>138.000000</td>\n",
       "      <td>2692.000000</td>\n",
       "      <td>557.000000</td>\n",
       "      <td>32.000000</td>\n",
       "    </tr>\n",
       "  </tbody>\n",
       "</table>\n",
       "</div>"
      ],
      "text/plain": [
       "               abv          ibu           id   brewery_id       ounces\n",
       "count  2348.000000  1405.000000  2410.000000  2410.000000  2410.000000\n",
       "mean      0.059773    42.713167  1431.113278   231.749793    13.592241\n",
       "std       0.013542    25.954066   752.459975   157.685604     2.352204\n",
       "min       0.001000     4.000000     1.000000     0.000000     8.400000\n",
       "25%       0.050000    21.000000   808.250000    93.000000    12.000000\n",
       "50%       0.056000    35.000000  1453.500000   205.000000    12.000000\n",
       "75%       0.067000    64.000000  2075.750000   366.000000    16.000000\n",
       "max       0.128000   138.000000  2692.000000   557.000000    32.000000"
      ]
     },
     "execution_count": 5,
     "metadata": {},
     "output_type": "execute_result"
    }
   ],
   "source": [
    "df_origin.describe()"
   ]
  },
  {
   "cell_type": "code",
   "execution_count": 6,
   "metadata": {},
   "outputs": [],
   "source": [
    "df = df_origin.dropna(how='any')"
   ]
  },
  {
   "cell_type": "code",
   "execution_count": 7,
   "metadata": {},
   "outputs": [
    {
     "data": {
      "text/html": [
       "<div>\n",
       "<style scoped>\n",
       "    .dataframe tbody tr th:only-of-type {\n",
       "        vertical-align: middle;\n",
       "    }\n",
       "\n",
       "    .dataframe tbody tr th {\n",
       "        vertical-align: top;\n",
       "    }\n",
       "\n",
       "    .dataframe thead th {\n",
       "        text-align: right;\n",
       "    }\n",
       "</style>\n",
       "<table border=\"1\" class=\"dataframe\">\n",
       "  <thead>\n",
       "    <tr style=\"text-align: right;\">\n",
       "      <th></th>\n",
       "      <th>abv</th>\n",
       "      <th>ibu</th>\n",
       "      <th>id</th>\n",
       "      <th>name</th>\n",
       "      <th>style</th>\n",
       "      <th>brewery_id</th>\n",
       "      <th>ounces</th>\n",
       "    </tr>\n",
       "  </thead>\n",
       "  <tbody>\n",
       "    <tr>\n",
       "      <th>14</th>\n",
       "      <td>0.061</td>\n",
       "      <td>60.0</td>\n",
       "      <td>1979</td>\n",
       "      <td>Bitter Bitch</td>\n",
       "      <td>American Pale Ale (APA)</td>\n",
       "      <td>177</td>\n",
       "      <td>12.0</td>\n",
       "    </tr>\n",
       "    <tr>\n",
       "      <th>21</th>\n",
       "      <td>0.099</td>\n",
       "      <td>92.0</td>\n",
       "      <td>1036</td>\n",
       "      <td>Lower De Boom</td>\n",
       "      <td>American Barleywine</td>\n",
       "      <td>368</td>\n",
       "      <td>8.4</td>\n",
       "    </tr>\n",
       "    <tr>\n",
       "      <th>22</th>\n",
       "      <td>0.079</td>\n",
       "      <td>45.0</td>\n",
       "      <td>1024</td>\n",
       "      <td>Fireside Chat</td>\n",
       "      <td>Winter Warmer</td>\n",
       "      <td>368</td>\n",
       "      <td>12.0</td>\n",
       "    </tr>\n",
       "    <tr>\n",
       "      <th>24</th>\n",
       "      <td>0.044</td>\n",
       "      <td>42.0</td>\n",
       "      <td>876</td>\n",
       "      <td>Bitter American</td>\n",
       "      <td>American Pale Ale (APA)</td>\n",
       "      <td>368</td>\n",
       "      <td>12.0</td>\n",
       "    </tr>\n",
       "    <tr>\n",
       "      <th>25</th>\n",
       "      <td>0.049</td>\n",
       "      <td>17.0</td>\n",
       "      <td>802</td>\n",
       "      <td>Hell or High Watermelon Wheat (2009)</td>\n",
       "      <td>Fruit / Vegetable Beer</td>\n",
       "      <td>368</td>\n",
       "      <td>12.0</td>\n",
       "    </tr>\n",
       "  </tbody>\n",
       "</table>\n",
       "</div>"
      ],
      "text/plain": [
       "      abv   ibu    id                                  name  \\\n",
       "14  0.061  60.0  1979                          Bitter Bitch   \n",
       "21  0.099  92.0  1036                         Lower De Boom   \n",
       "22  0.079  45.0  1024                         Fireside Chat   \n",
       "24  0.044  42.0   876                       Bitter American   \n",
       "25  0.049  17.0   802  Hell or High Watermelon Wheat (2009)   \n",
       "\n",
       "                      style  brewery_id  ounces  \n",
       "14  American Pale Ale (APA)         177    12.0  \n",
       "21      American Barleywine         368     8.4  \n",
       "22            Winter Warmer         368    12.0  \n",
       "24  American Pale Ale (APA)         368    12.0  \n",
       "25   Fruit / Vegetable Beer         368    12.0  "
      ]
     },
     "execution_count": 7,
     "metadata": {},
     "output_type": "execute_result"
    }
   ],
   "source": [
    "df.head()"
   ]
  },
  {
   "cell_type": "code",
   "execution_count": 8,
   "metadata": {},
   "outputs": [
    {
     "data": {
      "text/html": [
       "<div>\n",
       "<style scoped>\n",
       "    .dataframe tbody tr th:only-of-type {\n",
       "        vertical-align: middle;\n",
       "    }\n",
       "\n",
       "    .dataframe tbody tr th {\n",
       "        vertical-align: top;\n",
       "    }\n",
       "\n",
       "    .dataframe thead th {\n",
       "        text-align: right;\n",
       "    }\n",
       "</style>\n",
       "<table border=\"1\" class=\"dataframe\">\n",
       "  <thead>\n",
       "    <tr style=\"text-align: right;\">\n",
       "      <th></th>\n",
       "      <th>abv</th>\n",
       "      <th>ibu</th>\n",
       "      <th>id</th>\n",
       "      <th>brewery_id</th>\n",
       "      <th>ounces</th>\n",
       "    </tr>\n",
       "  </thead>\n",
       "  <tbody>\n",
       "    <tr>\n",
       "      <th>count</th>\n",
       "      <td>1403.000000</td>\n",
       "      <td>1403.000000</td>\n",
       "      <td>1403.000000</td>\n",
       "      <td>1403.000000</td>\n",
       "      <td>1403.000000</td>\n",
       "    </tr>\n",
       "    <tr>\n",
       "      <th>mean</th>\n",
       "      <td>0.059919</td>\n",
       "      <td>42.739843</td>\n",
       "      <td>1413.888810</td>\n",
       "      <td>223.375624</td>\n",
       "      <td>13.510264</td>\n",
       "    </tr>\n",
       "    <tr>\n",
       "      <th>std</th>\n",
       "      <td>0.013585</td>\n",
       "      <td>25.962692</td>\n",
       "      <td>757.572191</td>\n",
       "      <td>150.387510</td>\n",
       "      <td>2.254112</td>\n",
       "    </tr>\n",
       "    <tr>\n",
       "      <th>min</th>\n",
       "      <td>0.027000</td>\n",
       "      <td>4.000000</td>\n",
       "      <td>1.000000</td>\n",
       "      <td>0.000000</td>\n",
       "      <td>8.400000</td>\n",
       "    </tr>\n",
       "    <tr>\n",
       "      <th>25%</th>\n",
       "      <td>0.050000</td>\n",
       "      <td>21.000000</td>\n",
       "      <td>771.000000</td>\n",
       "      <td>95.500000</td>\n",
       "      <td>12.000000</td>\n",
       "    </tr>\n",
       "    <tr>\n",
       "      <th>50%</th>\n",
       "      <td>0.057000</td>\n",
       "      <td>35.000000</td>\n",
       "      <td>1435.000000</td>\n",
       "      <td>198.000000</td>\n",
       "      <td>12.000000</td>\n",
       "    </tr>\n",
       "    <tr>\n",
       "      <th>75%</th>\n",
       "      <td>0.068000</td>\n",
       "      <td>64.000000</td>\n",
       "      <td>2068.500000</td>\n",
       "      <td>350.000000</td>\n",
       "      <td>16.000000</td>\n",
       "    </tr>\n",
       "    <tr>\n",
       "      <th>max</th>\n",
       "      <td>0.125000</td>\n",
       "      <td>138.000000</td>\n",
       "      <td>2692.000000</td>\n",
       "      <td>546.000000</td>\n",
       "      <td>32.000000</td>\n",
       "    </tr>\n",
       "  </tbody>\n",
       "</table>\n",
       "</div>"
      ],
      "text/plain": [
       "               abv          ibu           id   brewery_id       ounces\n",
       "count  1403.000000  1403.000000  1403.000000  1403.000000  1403.000000\n",
       "mean      0.059919    42.739843  1413.888810   223.375624    13.510264\n",
       "std       0.013585    25.962692   757.572191   150.387510     2.254112\n",
       "min       0.027000     4.000000     1.000000     0.000000     8.400000\n",
       "25%       0.050000    21.000000   771.000000    95.500000    12.000000\n",
       "50%       0.057000    35.000000  1435.000000   198.000000    12.000000\n",
       "75%       0.068000    64.000000  2068.500000   350.000000    16.000000\n",
       "max       0.125000   138.000000  2692.000000   546.000000    32.000000"
      ]
     },
     "execution_count": 8,
     "metadata": {},
     "output_type": "execute_result"
    }
   ],
   "source": [
    "df.describe()"
   ]
  },
  {
   "cell_type": "code",
   "execution_count": 9,
   "metadata": {},
   "outputs": [
    {
     "data": {
      "text/plain": [
       "1326"
      ]
     },
     "execution_count": 9,
     "metadata": {},
     "output_type": "execute_result"
    }
   ],
   "source": [
    "len(df['name'].unique())"
   ]
  },
  {
   "cell_type": "code",
   "execution_count": 10,
   "metadata": {},
   "outputs": [],
   "source": [
    "import util"
   ]
  },
  {
   "cell_type": "code",
   "execution_count": 11,
   "metadata": {},
   "outputs": [],
   "source": [
    "name_dict = util.get_unique_dict(df['name'])\n",
    "df_name = util.get_df(df['name'], name_dict, 'name')\n",
    "df_name.index = df['name'].index"
   ]
  },
  {
   "cell_type": "code",
   "execution_count": 12,
   "metadata": {},
   "outputs": [
    {
     "data": {
      "text/plain": [
       "1326"
      ]
     },
     "execution_count": 12,
     "metadata": {},
     "output_type": "execute_result"
    }
   ],
   "source": [
    "len(name_dict)"
   ]
  },
  {
   "cell_type": "code",
   "execution_count": 13,
   "metadata": {},
   "outputs": [],
   "source": [
    "style_dict = util.get_unique_dict(df['style'])\n",
    "df_style = util.get_df(df['style'], style_dict, 'style')\n",
    "df_style.index = df['style'].index"
   ]
  },
  {
   "cell_type": "code",
   "execution_count": 14,
   "metadata": {},
   "outputs": [
    {
     "data": {
      "text/plain": [
       "90"
      ]
     },
     "execution_count": 14,
     "metadata": {},
     "output_type": "execute_result"
    }
   ],
   "source": [
    "len(style_dict)"
   ]
  },
  {
   "cell_type": "code",
   "execution_count": 15,
   "metadata": {},
   "outputs": [
    {
     "data": {
      "text/html": [
       "<div>\n",
       "<style scoped>\n",
       "    .dataframe tbody tr th:only-of-type {\n",
       "        vertical-align: middle;\n",
       "    }\n",
       "\n",
       "    .dataframe tbody tr th {\n",
       "        vertical-align: top;\n",
       "    }\n",
       "\n",
       "    .dataframe thead th {\n",
       "        text-align: right;\n",
       "    }\n",
       "</style>\n",
       "<table border=\"1\" class=\"dataframe\">\n",
       "  <thead>\n",
       "    <tr style=\"text-align: right;\">\n",
       "      <th></th>\n",
       "      <th>style</th>\n",
       "    </tr>\n",
       "  </thead>\n",
       "  <tbody>\n",
       "    <tr>\n",
       "      <th>14</th>\n",
       "      <td>0</td>\n",
       "    </tr>\n",
       "    <tr>\n",
       "      <th>21</th>\n",
       "      <td>1</td>\n",
       "    </tr>\n",
       "    <tr>\n",
       "      <th>22</th>\n",
       "      <td>2</td>\n",
       "    </tr>\n",
       "    <tr>\n",
       "      <th>24</th>\n",
       "      <td>0</td>\n",
       "    </tr>\n",
       "    <tr>\n",
       "      <th>25</th>\n",
       "      <td>3</td>\n",
       "    </tr>\n",
       "  </tbody>\n",
       "</table>\n",
       "</div>"
      ],
      "text/plain": [
       "    style\n",
       "14      0\n",
       "21      1\n",
       "22      2\n",
       "24      0\n",
       "25      3"
      ]
     },
     "execution_count": 15,
     "metadata": {},
     "output_type": "execute_result"
    }
   ],
   "source": [
    "df_style.head()"
   ]
  },
  {
   "cell_type": "code",
   "execution_count": 16,
   "metadata": {},
   "outputs": [],
   "source": [
    "df_learn = pd.concat([\n",
    "    df['abv'],\n",
    "    df['ibu'],\n",
    "    df_name['name'],\n",
    "    df_style['style'],\n",
    "], axis=1, sort=True)"
   ]
  },
  {
   "cell_type": "code",
   "execution_count": 17,
   "metadata": {},
   "outputs": [
    {
     "data": {
      "text/html": [
       "<div>\n",
       "<style scoped>\n",
       "    .dataframe tbody tr th:only-of-type {\n",
       "        vertical-align: middle;\n",
       "    }\n",
       "\n",
       "    .dataframe tbody tr th {\n",
       "        vertical-align: top;\n",
       "    }\n",
       "\n",
       "    .dataframe thead th {\n",
       "        text-align: right;\n",
       "    }\n",
       "</style>\n",
       "<table border=\"1\" class=\"dataframe\">\n",
       "  <thead>\n",
       "    <tr style=\"text-align: right;\">\n",
       "      <th></th>\n",
       "      <th>abv</th>\n",
       "      <th>ibu</th>\n",
       "      <th>name</th>\n",
       "      <th>style</th>\n",
       "    </tr>\n",
       "  </thead>\n",
       "  <tbody>\n",
       "    <tr>\n",
       "      <th>14</th>\n",
       "      <td>0.061</td>\n",
       "      <td>60.0</td>\n",
       "      <td>0</td>\n",
       "      <td>0</td>\n",
       "    </tr>\n",
       "    <tr>\n",
       "      <th>21</th>\n",
       "      <td>0.099</td>\n",
       "      <td>92.0</td>\n",
       "      <td>1</td>\n",
       "      <td>1</td>\n",
       "    </tr>\n",
       "    <tr>\n",
       "      <th>22</th>\n",
       "      <td>0.079</td>\n",
       "      <td>45.0</td>\n",
       "      <td>2</td>\n",
       "      <td>2</td>\n",
       "    </tr>\n",
       "    <tr>\n",
       "      <th>24</th>\n",
       "      <td>0.044</td>\n",
       "      <td>42.0</td>\n",
       "      <td>3</td>\n",
       "      <td>0</td>\n",
       "    </tr>\n",
       "    <tr>\n",
       "      <th>25</th>\n",
       "      <td>0.049</td>\n",
       "      <td>17.0</td>\n",
       "      <td>4</td>\n",
       "      <td>3</td>\n",
       "    </tr>\n",
       "  </tbody>\n",
       "</table>\n",
       "</div>"
      ],
      "text/plain": [
       "      abv   ibu  name  style\n",
       "14  0.061  60.0     0      0\n",
       "21  0.099  92.0     1      1\n",
       "22  0.079  45.0     2      2\n",
       "24  0.044  42.0     3      0\n",
       "25  0.049  17.0     4      3"
      ]
     },
     "execution_count": 17,
     "metadata": {},
     "output_type": "execute_result"
    }
   ],
   "source": [
    "df_learn.head()"
   ]
  },
  {
   "cell_type": "code",
   "execution_count": 18,
   "metadata": {},
   "outputs": [],
   "source": [
    "from sklearn.model_selection import train_test_split\n",
    "from sklearn.neighbors import KNeighborsClassifier as KNC"
   ]
  },
  {
   "cell_type": "code",
   "execution_count": 19,
   "metadata": {},
   "outputs": [],
   "source": [
    "def get_neigh(X, y):\n",
    "    (X_train, X_test, y_train, y_test) = train_test_split(X, y, test_size=0.1, random_state=3)\n",
    "    neigh = KNC(n_neighbors=5)\n",
    "    return neigh.fit(X_train, y_train), neigh.score(X_test, y_test)"
   ]
  },
  {
   "cell_type": "markdown",
   "metadata": {},
   "source": [
    "Predict style from abv and ibu"
   ]
  },
  {
   "cell_type": "code",
   "execution_count": 20,
   "metadata": {},
   "outputs": [],
   "source": [
    "X_style = df_learn.drop(['name', 'style'], axis=1).values\n",
    "y_style = df_learn['style'].values"
   ]
  },
  {
   "cell_type": "code",
   "execution_count": 21,
   "metadata": {},
   "outputs": [],
   "source": [
    "model, score = get_neigh(X_style, y_style)"
   ]
  },
  {
   "cell_type": "code",
   "execution_count": 22,
   "metadata": {},
   "outputs": [
    {
     "data": {
      "text/plain": [
       "0.40425531914893614"
      ]
     },
     "execution_count": 22,
     "metadata": {},
     "output_type": "execute_result"
    }
   ],
   "source": [
    "score"
   ]
  },
  {
   "cell_type": "code",
   "execution_count": 23,
   "metadata": {},
   "outputs": [
    {
     "name": "stdout",
     "output_type": "stream",
     "text": [
      "0\n"
     ]
    }
   ],
   "source": [
    "abv = 0.075\n",
    "ibu = 45.6\n",
    "pred = model.predict([\n",
    "    (abv, ibu)\n",
    "])\n",
    "style_idx = pred[0]\n",
    "print(style_idx)"
   ]
  },
  {
   "cell_type": "code",
   "execution_count": 24,
   "metadata": {},
   "outputs": [
    {
     "name": "stdout",
     "output_type": "stream",
     "text": [
      "American Pale Ale (APA)\n"
     ]
    }
   ],
   "source": [
    "style_name = util.get_unique_value(style_idx, style_dict)\n",
    "print(style_name)"
   ]
  },
  {
   "cell_type": "markdown",
   "metadata": {},
   "source": [
    "Predict name from abv, ibu and style"
   ]
  },
  {
   "cell_type": "code",
   "execution_count": 25,
   "metadata": {},
   "outputs": [],
   "source": [
    "X_name = df_learn.drop(['name'], axis=1).values\n",
    "y_name = df_learn['name'].values"
   ]
  },
  {
   "cell_type": "code",
   "execution_count": 26,
   "metadata": {},
   "outputs": [],
   "source": [
    "model_n, score_n = get_neigh(X_name, y_name)"
   ]
  },
  {
   "cell_type": "code",
   "execution_count": 27,
   "metadata": {},
   "outputs": [
    {
     "data": {
      "text/plain": [
       "0.04964539007092199"
      ]
     },
     "execution_count": 27,
     "metadata": {},
     "output_type": "execute_result"
    }
   ],
   "source": [
    "score_n"
   ]
  },
  {
   "cell_type": "code",
   "execution_count": 28,
   "metadata": {},
   "outputs": [
    {
     "name": "stdout",
     "output_type": "stream",
     "text": [
      "1057\n"
     ]
    }
   ],
   "source": [
    "style = style_idx\n",
    "pred = model_n.predict([\n",
    "    (abv, ibu, style)\n",
    "])\n",
    "name_idx= pred[0]\n",
    "print(name_idx)"
   ]
  },
  {
   "cell_type": "code",
   "execution_count": 29,
   "metadata": {},
   "outputs": [
    {
     "name": "stdout",
     "output_type": "stream",
     "text": [
      "Pine Belt Pale Ale\n"
     ]
    }
   ],
   "source": [
    "name = util.get_unique_value(name_idx, name_dict)\n",
    "print(name)"
   ]
  },
  {
   "cell_type": "code",
   "execution_count": 30,
   "metadata": {},
   "outputs": [
    {
     "name": "stdout",
     "output_type": "stream",
     "text": [
      "Pandas(Index=1954, abv=0.065, ibu=45.0, id=2387, name='Pine Belt Pale Ale', style='American Pale Ale (APA)', brewery_id=118, ounces=12.0)\n",
      "style_id 0\n",
      "Pandas(Index=1966, abv=0.065, ibu=45.0, id=45, name='Pine Belt Pale Ale', style='American Pale Ale (APA)', brewery_id=118, ounces=16.0)\n",
      "style_id 0\n",
      "None\n"
     ]
    }
   ],
   "source": [
    "beer = util.show_recommemd_beer(pred, name_dict, style_dict, df)\n",
    "print(beer)"
   ]
  },
  {
   "cell_type": "code",
   "execution_count": 31,
   "metadata": {},
   "outputs": [
    {
     "name": "stdout",
     "output_type": "stream",
     "text": [
      "0.061 60.0 Bitter Bitch\n",
      "0.044 42.0 Bitter American\n",
      "0.044 42.0 Bitter American (2011)\n",
      "0.042 42.0 A Beer\n",
      "0.05 35.0 Oatmeal PSA\n",
      "0.053 36.0 Klickitat Pale Ale\n",
      "0.053 40.0 Freeride APA\n",
      "0.055 28.0 Poleeko Gold Pale Ale (2009)\n",
      "0.06 55.0 Sky High Rye\n",
      "0.06 43.0 Naked Pig Pale Ale\n",
      "0.044 38.0 Field 41 Pale Ale\n",
      "0.049 28.0 Pamola Xtra Pale Ale\n",
      "0.058 45.0 Fenway American Pale Ale\n",
      "0.053 20.0 Steel Rail Extra Pale Ale\n",
      "0.053 43.0 Jack Pine Savage\n",
      "0.055 45.0 Jalapeno Pale Ale\n",
      "0.058 44.0 Aftermath Pale Ale\n",
      "0.046 35.0 834 Happy As Ale\n",
      "0.059 60.0 Full Nelson Pale Ale\n",
      "0.059 60.0 Full Nelson Pale Ale (2010)\n",
      "0.053 45.0 Kindler Pale Ale\n",
      "0.049 35.0 Hazed & Infused\n",
      "0.057 35.0 Hoopla Pale Ale\n",
      "0.049 35.0 Hazed & Infused (2010)\n",
      "0.052000000000000005 17.0 Polar Pale Ale\n",
      "0.055 40.0 Pale Alement\n",
      "0.055 40.0 Pale Alement\n",
      "0.056 36.0 Mucho Aloha Hawaiian Pale Ale\n",
      "0.056 55.0 Caldera Pale Ale\n",
      "0.056 55.0 Caldera Pale Ale (2010)\n",
      "0.056 55.0 Caldera Pale Ale (2009)\n",
      "0.056 55.0 Caldera Pale Ale (2005)\n",
      "0.056 55.0 Caldera Pale Ale (2007)\n",
      "0.056 55.0 Caldera Pale Ale (2011)\n",
      "0.051 36.0 Elliott's Phoned Home Pale Ale\n",
      "0.052000000000000005 42.0 Ray Ray’s Pale Ale\n",
      "0.055 30.0 Pail Ale\n",
      "0.06 46.0 Neomexicanus Native\n",
      "0.05 40.0 Mirror Pond Pale Ale\n",
      "0.044 45.0 Bravo Four Point\n",
      "0.052000000000000005 26.0 Striped Bass Pale Ale\n",
      "0.05 32.0 Iron Horse Pale Ale\n",
      "0.063 55.0 Trail Head\n",
      "0.057 36.0 Brass Knuckle Pale Ale\n",
      "0.065 45.0 Fremont Summer Ale\n",
      "0.056 30.0 Universale Pale Ale\n",
      "0.056 36.0 Good People Pale Ale\n",
      "0.055 40.0 Mountain Rescue Pale Ale\n",
      "0.054000000000000006 30.0 312 Urban Pale Ale\n",
      "0.054000000000000006 30.0 312 Urban Pale Ale\n",
      "0.055 35.0 Lakefire Rye Pale Ale\n",
      "0.052000000000000005 49.0 Commotion APA\n",
      "0.053 48.0 483 Pale Ale\n",
      "0.053 48.0 483 Pale Ale (2010)\n",
      "0.05 30.0 Pablo Beach Pale Ale\n",
      "0.057 44.0 Wild Trail Pale Ale\n",
      "0.06 54.0 Flying Jenny Extra Pale Ale\n",
      "0.06 54.0 Flying Jenny Extra Pale Ale (2012)\n",
      "0.05 35.0 Grind Line\n",
      "0.056 55.0 Capital Trail Pale Ale\n",
      "0.07 68.0 The Power of Zeus\n",
      "0.045 32.0 The 12th Can™\n",
      "0.06 50.0 Pale Dog\n",
      "0.054000000000000006 45.0 Day Tripper Pale Ale\n",
      "0.055 42.0 Power & Light\n",
      "0.058 58.0 Tribute\n",
      "0.053 28.0 People's Pale Ale\n",
      "0.055 37.0 Thunder Ann\n",
      "0.05 50.0 Fox Tail Gluten Free Ale\n",
      "0.055 40.0 Weekend Warrior Pale Ale\n",
      "0.055 50.0 Eddy Out Pale Ale\n",
      "0.057 40.0 Peach Pale Ale\n",
      "0.057 47.0 Peacemaker Pale Ale\n",
      "0.05 40.0 SPRYE\n",
      "0.066 44.0 Manzanita Pale Ale\n",
      "0.037000000000000005 53.0 Back in the Saddle Rye Pale Ale\n",
      "0.054000000000000006 42.0 Mauna Kea Pale Ale\n",
      "0.048 44.0 El Conquistador Extra Pale Ale\n",
      "0.052000000000000005 50.0 Oneida\n",
      "0.057 29.0 Cardinal Pale Ale\n",
      "0.051 31.0 Jam Session\n",
      "0.063 42.0 Three Skulls Ale Pale Ale\n",
      "0.048 35.0 Slow Ride\n",
      "0.05 45.0 Boji Blue Pale Ale\n",
      "0.065 65.0 Dale's Pale Ale\n",
      "0.065 65.0 Dale's Pale Ale\n",
      "0.065 65.0 Dale's Pale Ale\n",
      "0.065 65.0 Dale's Pale Ale (10 Year Anniversary)\n",
      "0.065 65.0 Dale's Pale Ale (2012)\n",
      "0.065 65.0 Dale's Pale Ale (2011)\n",
      "0.065 65.0 Dale's Pale Ale (2010)\n",
      "0.065 65.0 Dale's Pale Ale\n",
      "0.065 65.0 Dale's Pale Ale (2008)\n",
      "0.065 65.0 Dale's Pale Ale (2006)\n",
      "0.065 65.0 Dale's Pale Ale (2004)\n",
      "0.065 65.0 Dale's Pale Ale (2003)\n",
      "0.065 65.0 Dale's Pale Ale (2002)\n",
      "0.065 65.0 Dale's Pale Ale\n",
      "0.065 65.0 Dale's Pale Ale\n",
      "0.055 55.0 Overgrown American Pale Ale\n",
      "0.04 39.0 Ozark American Pale Ale\n",
      "0.053 48.0 Stimulator Pale Ale\n",
      "0.042 35.0 Rodeo Rye Pale Ale\n",
      "0.048 35.0 Payette Pale Ale\n",
      "0.05 40.0 Veteran’s Pale Ale (VPA)\n",
      "0.057 31.0 Pisgah Pale Ale\n",
      "0.054000000000000006 45.0 Mazzie\n",
      "0.057 68.0 Over the Rail Pale Ale\n",
      "0.058 60.0 Pride of Texas Pale Ale\n",
      "0.05 40.0 Consilium\n",
      "0.055 40.0 Fist City\n",
      "0.055 42.0 Pure Fury\n",
      "0.043 45.0 Zen\n",
      "0.055 60.0 Hop Bomber Rye Pale Ale\n",
      "0.052000000000000005 40.0 Saint Archer Pale Ale\n",
      "0.055 45.0 Devil’s Ale\n",
      "0.055 45.0 American Idiot Ale (2012)\n",
      "0.055 45.0 Devil’s Ale (2010)\n",
      "0.06 53.0 Humulus Nimbus Super Pale Ale\n",
      "0.056 37.0 Sierra Nevada Pale Ale\n",
      "0.056 37.0 Sierra Nevada Pale Ale\n",
      "0.047 50.0 Sensi Harvest\n",
      "0.051 40.0 Phoenix Pale Ale\n",
      "0.06 55.0 Snow King Pale Ale\n",
      "0.052000000000000005 32.0 Snake River Pale Ale\n",
      "0.052000000000000005 32.0 Hell-Diver Pale Ale\n",
      "0.058 60.0 Devil's Harvest Extra Pale Ale\n",
      "0.058 60.0 Devil's Harvest Extra Pale Ale\n",
      "0.065 45.0 Pine Belt Pale Ale\n",
      "0.065 45.0 Pine Belt Pale Ale\n",
      "0.065 65.0 Third Eye Enlightened Pale Ale\n",
      "0.054000000000000006 33.0 Point Cascade Pale Ale (2013)\n",
      "0.054000000000000006 33.0 Point Cascade Pale Ale\n",
      "0.053 49.0 Extra Pale Ale\n",
      "0.047 55.0 Hopvale Organic Ale\n",
      "0.056 50.0 Osiris Pale Ale\n",
      "0.056 50.0 Osiris Pale Ale (2010)\n",
      "0.056 35.0 Stump Knocker Pale Ale\n",
      "0.047 42.0 RecreationAle\n",
      "0.052000000000000005 16.0 Bronx Summer Pale Ale\n",
      "0.063 50.0 Bronx Pale Ale\n",
      "0.052000000000000005 35.0 Surfrider\n",
      "0.054000000000000006 37.0 Pale\n",
      "0.055 37.0 Voodoo Bengal Pale Ale\n",
      "0.055 52.0 Greenville Pale Ale\n",
      "0.057 36.0 Persnickety Pale\n",
      "0.051 36.0 Sidekick Extra Pale Ale\n",
      "0.04 34.0 Cutthroat Pale Ale\n",
      "0.04 29.0 WYLD Extra Pale Ale\n",
      "0.056 41.0 Paddy Pale Ale\n",
      "0.051 45.0 Alpha Ale\n",
      "0.06 50.0 Worthy Pale\n",
      "0.055 40.0 Silverback Pale Ale\n"
     ]
    }
   ],
   "source": [
    "for row in df.itertuples():\n",
    "    if row.style == style_name:\n",
    "        print(row.abv, row.ibu, row.name)"
   ]
  },
  {
   "cell_type": "code",
   "execution_count": null,
   "metadata": {},
   "outputs": [],
   "source": []
  }
 ],
 "metadata": {
  "kernelspec": {
   "display_name": "Python 3",
   "language": "python",
   "name": "python3"
  },
  "language_info": {
   "codemirror_mode": {
    "name": "ipython",
    "version": 3
   },
   "file_extension": ".py",
   "mimetype": "text/x-python",
   "name": "python",
   "nbconvert_exporter": "python",
   "pygments_lexer": "ipython3",
   "version": "3.6.4"
  }
 },
 "nbformat": 4,
 "nbformat_minor": 2
}
